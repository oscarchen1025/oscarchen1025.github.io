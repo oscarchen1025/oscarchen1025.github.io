{
 "cells": [
  {
   "cell_type": "code",
   "execution_count": null,
   "metadata": {},
   "outputs": [
    {
     "name": "stdout",
     "output_type": "stream",
     "text": [
      "price | 2004-02-13 ~ 2024-08-19\n",
      "\n",
      "2024-06-01 / success\n",
      "2024-06-02 / fail\n",
      "2024-06-03 / success\n"
     ]
    }
   ],
   "source": [
    "print('price | 2004-02-13 ~ 2024-08-19\\n')\n",
    "\n",
    "print('2024-06-01 / success')\n",
    "print('2024-06-02 / fail')\n",
    "print('2024-06-03 / success')"
   ]
  },
  {
   "cell_type": "code",
   "execution_count": 1,
   "metadata": {},
   "outputs": [],
   "source": [
    "import requests\n",
    "\n",
    "url = 'https://mis.twse.com.tw/stock/api/getStockInfo.jsp?ex_ch=tse_2330.tw&json=1&delay=0&_=1724137196234&lang=zh_tw'\n",
    "\n",
    "r = requests.get(url)"
   ]
  },
  {
   "cell_type": "code",
   "execution_count": 3,
   "metadata": {},
   "outputs": [
    {
     "data": {
      "text/plain": [
       "{'msgArray': [{'@': '2330.tw',\n",
       "   'tv': '3038',\n",
       "   'ps': '3037',\n",
       "   'pid': '9.tse.tw|15683',\n",
       "   'pz': '973.0000',\n",
       "   'bp': '0',\n",
       "   'fv': '117',\n",
       "   'oa': '973.0000',\n",
       "   'ob': '972.0000',\n",
       "   'm%': '000000',\n",
       "   '^': '20240820',\n",
       "   'key': 'tse_2330.tw_20240820',\n",
       "   'a': '973.0000_974.0000_975.0000_976.0000_977.0000_',\n",
       "   'b': '972.0000_971.0000_970.0000_969.0000_968.0000_',\n",
       "   'c': '2330',\n",
       "   '#': '13.tse.tw|2685',\n",
       "   'd': '20240820',\n",
       "   '%': '14:30:00',\n",
       "   'ch': '2330.tw',\n",
       "   'tlong': '1724135400000',\n",
       "   'ot': '14:30:00',\n",
       "   'f': '384_491_665_402_461_',\n",
       "   'g': '6_4_21_148_110_',\n",
       "   'ip': '0',\n",
       "   'mt': '000000',\n",
       "   'ov': '31959',\n",
       "   'h': '977.0000',\n",
       "   'i': '24',\n",
       "   'it': '12',\n",
       "   'oz': '973.0000',\n",
       "   'l': '968.0000',\n",
       "   'n': '台積電',\n",
       "   'o': '977.0000',\n",
       "   'p': '0',\n",
       "   'ex': 'tse',\n",
       "   's': '3038',\n",
       "   't': '13:30:00',\n",
       "   'u': '1070.0000',\n",
       "   'v': '23891',\n",
       "   'w': '876.0000',\n",
       "   'nf': '台灣積體電路製造股份有限公司',\n",
       "   'y': '973.0000',\n",
       "   'z': '973.0000',\n",
       "   'ts': '0'}],\n",
       " 'referer': '',\n",
       " 'userDelay': 5000,\n",
       " 'rtcode': '0000',\n",
       " 'queryTime': {'sysDate': '20240820',\n",
       "  'stockInfoItem': 2982,\n",
       "  'stockInfo': 708,\n",
       "  'sessionStr': 'UserSession',\n",
       "  'sysTime': '15:00:49',\n",
       "  'showChart': False,\n",
       "  'sessionFromTime': 1724135482015,\n",
       "  'sessionLatestTime': 1724135482015},\n",
       " 'rtmessage': 'OK',\n",
       " 'exKey': 'if_tse_2330.tw_zh-tw.null',\n",
       " 'cachedAlive': 2353}"
      ]
     },
     "execution_count": 3,
     "metadata": {},
     "output_type": "execute_result"
    }
   ],
   "source": [
    "r.json()"
   ]
  },
  {
   "cell_type": "code",
   "execution_count": null,
   "metadata": {},
   "outputs": [],
   "source": []
  }
 ],
 "metadata": {
  "kernelspec": {
   "display_name": "FinLab",
   "language": "python",
   "name": "finlab"
  },
  "language_info": {
   "codemirror_mode": {
    "name": "ipython",
    "version": 3
   },
   "file_extension": ".py",
   "mimetype": "text/x-python",
   "name": "python",
   "nbconvert_exporter": "python",
   "pygments_lexer": "ipython3",
   "version": "3.11.9"
  }
 },
 "nbformat": 4,
 "nbformat_minor": 2
}
