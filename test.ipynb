{
 "cells": [
  {
   "cell_type": "code",
   "execution_count": 1,
   "metadata": {},
   "outputs": [
    {
     "name": "stdout",
     "output_type": "stream",
     "text": [
      "輸入成功!\n"
     ]
    },
    {
     "name": "stderr",
     "output_type": "stream",
     "text": [
      "Your version is 1.2.10, please install a newer version.\n",
      "Use \"pip install finlab==1.2.11\" to update the latest version.\n"
     ]
    },
    {
     "name": "stdout",
     "output_type": "stream",
     "text": [
      "Daily usage: 693.5 / 5000 MB - price:收盤價\n",
      "Daily usage: 718.3 / 5000 MB - price:開盤價\n",
      "Daily usage: 743.1 / 5000 MB - price:最高價\n",
      "Daily usage: 767.8 / 5000 MB - price:最低價\n",
      "Daily usage: 802.5 / 5000 MB - price:成交股數\n",
      "Daily usage: 842.7 / 5000 MB - price:成交金額\n",
      "Daily usage: 854.5 / 5000 MB - intraday_trading:當日沖銷交易成交股數\n",
      "Daily usage: 887.7 / 5000 MB - etl:adj_close\n",
      "Daily usage: 904.3 / 5000 MB - price_earning_ratio:本益比\n",
      "Daily usage: 917.6 / 5000 MB - price_earning_ratio:殖利率(%)\n",
      "Daily usage: 935.5 / 5000 MB - institutional_investors_trading_summary:外陸資買賣超股數(不含外資自營商)\n",
      "Daily usage: 942.4 / 5000 MB - institutional_investors_trading_summary:投信買賣超股數\n",
      "Daily usage: 962.8 / 5000 MB - margin_transactions:融資今日餘額\n",
      "Daily usage: 981.9 / 5000 MB - margin_transactions:融資使用率\n",
      "Daily usage: 1185.0 / 5000 MB - inventory\n",
      "Daily usage: 1188.5 / 5000 MB - monthly_revenue:當月營收\n",
      "Daily usage: 1191.9 / 5000 MB - monthly_revenue:去年同月增減(%)\n",
      "Daily usage: 1195.2 / 5000 MB - monthly_revenue:上月比較增減(%)\n",
      "Daily usage: 1198.5 / 5000 MB - monthly_revenue:前期比較增減(%)\n",
      "Daily usage: 1200.5 / 5000 MB - internal_equity_changes:董監持有股數占比\n",
      "Daily usage: 1220.6 / 5000 MB - etl:market_value\n",
      "Daily usage: 1222.2 / 5000 MB - financial_statement:投資活動之淨現金流入_流出\n",
      "Daily usage: 1223.7 / 5000 MB - financial_statement:營業活動之淨現金流入_流出\n",
      "Daily usage: 1225.2 / 5000 MB - financial_statement:籌資活動之淨現金流入_流出\n",
      "Daily usage: 1226.9 / 5000 MB - fundamental_features:營業利益率\n",
      "Daily usage: 1228.6 / 5000 MB - fundamental_features:營業利益成長率\n",
      "Daily usage: 1230.3 / 5000 MB - fundamental_features:營收成長率\n",
      "Daily usage: 1232.0 / 5000 MB - fundamental_features:業外收支營收率\n",
      "Daily usage: 1233.7 / 5000 MB - fundamental_features:ROE稅後\n",
      "Daily usage: 1235.2 / 5000 MB - fundamental_features:經常稅後淨利\n",
      "Daily usage: 1236.7 / 5000 MB - financial_statement:股東權益總額\n",
      "Daily usage: 1237.9 / 5000 MB - financial_statement:普通股股本\n",
      "Daily usage: 1238.0 / 5000 MB - security_industry_themes\n",
      "Daily usage: 1238.1 / 5000 MB - security_categories\n"
     ]
    }
   ],
   "source": [
    "import finlab\n",
    "from finlab import data\n",
    "from finlab.backtest import sim\n",
    "from finlab.dataframe import FinlabDataFrame\n",
    "import pandas as pd\n",
    "import numpy as np\n",
    "import warnings;warnings.filterwarnings('ignore')\n",
    "\n",
    "\n",
    "# get data\n",
    "c = data.get(\"price:收盤價\")\n",
    "o = data.get(\"price:開盤價\")\n",
    "h = data.get(\"price:最高價\")\n",
    "l = data.get(\"price:最低價\")\n",
    "v = data.get(\"price:成交股數\")/1000\n",
    "turnover = data.get(\"price:成交金額\")\n",
    "vi = data.get('intraday_trading:當日沖銷交易成交股數')/1000\n",
    "adj_close = data.get('etl:adj_close')\n",
    "pe = data.get('price_earning_ratio:本益比')\n",
    "殖利率 = data.get('price_earning_ratio:殖利率(%)')\n",
    "外資買賣超股數 = data.get('institutional_investors_trading_summary:外陸資買賣超股數(不含外資自營商)').fillna(0)\n",
    "投信買賣超股數 = data.get('institutional_investors_trading_summary:投信買賣超股數').fillna(0)\n",
    "融資餘額 = data.get('margin_transactions:融資今日餘額')\n",
    "融資使用率 = data.get('margin_transactions:融資使用率')\n",
    "inv = data.get('inventory')\n",
    "\n",
    "rev = data.get('monthly_revenue:當月營收')\n",
    "yoy = data.get('monthly_revenue:去年同月增減(%)')\n",
    "mom = data.get('monthly_revenue:上月比較增減(%)')\n",
    "cyoy = data.get('monthly_revenue:前期比較增減(%)')\n",
    "boss_hold = data.get(\"internal_equity_changes:董監持有股數占比\")\n",
    "\n",
    "市值 = data.get('etl:market_value')\n",
    "投資現金流 = data.get('financial_statement:投資活動之淨現金流入_流出')\n",
    "營業現金流 = data.get('financial_statement:營業活動之淨現金流入_流出')\n",
    "融資現金流 = data.get('financial_statement:籌資活動之淨現金流入_流出')\n",
    "營業利益率 = data.get('fundamental_features:營業利益率')\n",
    "營業利益成長率 = data.get('fundamental_features:營業利益成長率')\n",
    "營收成長率 = data.get('fundamental_features:營收成長率')\n",
    "業外收支營收率 = data.get('fundamental_features:業外收支營收率')\n",
    "ROE稅後 = data.get('fundamental_features:ROE稅後')\n",
    "稅後淨利 = data.get('fundamental_features:經常稅後淨利')\n",
    "權益總計 = data.get('financial_statement:股東權益總額')\n",
    "普通股股本 = data.get('financial_statement:普通股股本')\n",
    "\n",
    "themes = data.get('security_industry_themes')\n",
    "security = data.get('security_categories')\n",
    "\n",
    "def rsv(n):\n",
    "    return (c-c.rolling(n,int(n/2)).min()) / (c.rolling(n,int(n/2)).max()-c.rolling(n,int(n/2)).min())\n",
    "\n",
    "def rs(n):\n",
    "    return (c/c.shift(n)).rank(pct=True,axis=1)\n",
    "\n",
    "def ma(n):\n",
    "    return c.average(n)\n",
    "\n",
    "inv['持股分級'] = inv['持股分級'].astype(int)"
   ]
  },
  {
   "cell_type": "code",
   "execution_count": 106,
   "metadata": {},
   "outputs": [
    {
     "name": "stdout",
     "output_type": "stream",
     "text": [
      "price | 2004-02-13 ~ 2024-08-19\n",
      "\n",
      "2024-06-01 / success\n",
      "2024-06-02 / fail\n",
      "2024-06-03 / success\n"
     ]
    }
   ],
   "source": [
    "\n",
    "print('price | 2004-02-13 ~ 2024-08-19\\n')\n",
    "\n",
    "print('2024-06-01 / success')\n",
    "print('2024-06-02 / fail')\n",
    "print('2024-06-03 / success')"
   ]
  },
  {
   "cell_type": "code",
   "execution_count": null,
   "metadata": {},
   "outputs": [],
   "source": []
  }
 ],
 "metadata": {
  "kernelspec": {
   "display_name": "FinLab",
   "language": "python",
   "name": "finlab"
  },
  "language_info": {
   "codemirror_mode": {
    "name": "ipython",
    "version": 3
   },
   "file_extension": ".py",
   "mimetype": "text/x-python",
   "name": "python",
   "nbconvert_exporter": "python",
   "pygments_lexer": "ipython3",
   "version": "3.11.9"
  }
 },
 "nbformat": 4,
 "nbformat_minor": 2
}
