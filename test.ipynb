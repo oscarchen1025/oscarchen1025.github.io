{
 "cells": [
  {
   "cell_type": "code",
   "execution_count": 60,
   "metadata": {},
   "outputs": [
    {
     "name": "stdout",
     "output_type": "stream",
     "text": [
      "price | 2004-02-13 ~ 2024-08-19\n",
      "\n",
      "2024-06-01 / success\n",
      "2024-06-02 / fail\n",
      "2024-06-03 / success\n"
     ]
    }
   ],
   "source": [
    "print('price | 2004-02-13 ~ 2024-08-19\\n')\n",
    "\n",
    "print('2024-06-01 / success')\n",
    "print('2024-06-02 / fail')\n",
    "print('2024-06-03 / success')"
   ]
  },
  {
   "cell_type": "code",
   "execution_count": 172,
   "metadata": {},
   "outputs": [
    {
     "name": "stdout",
     "output_type": "stream",
     "text": [
      "price \u001b[94m|\u001b[0m 2004-02-13 ~ 2024-08-19\n",
      "\n",
      "2024-06-01 \u001b[94m/\u001b[0m \u001b[92msuccess\u001b[0m\n",
      "2024-06-02 \u001b[94m/\u001b[0m \u001b[91mfail\u001b[0m\n"
     ]
    }
   ],
   "source": [
    "print('price',\"\\033[94m|\\033[0m\",'2004-02-13 ~ 2024-08-19\\n')\n",
    "\n",
    "\n",
    "print('2024-06-01',\"\\033[94m/\\033[0m\",'\\033[92msuccess\\033[0m')\n",
    "print('2024-06-02',\"\\033[94m/\\033[0m\",'\\033[91mfail\\033[0m')"
   ]
  },
  {
   "cell_type": "code",
   "execution_count": null,
   "metadata": {},
   "outputs": [],
   "source": []
  }
 ],
 "metadata": {
  "kernelspec": {
   "display_name": "FinLab",
   "language": "python",
   "name": "finlab"
  },
  "language_info": {
   "codemirror_mode": {
    "name": "ipython",
    "version": 3
   },
   "file_extension": ".py",
   "mimetype": "text/x-python",
   "name": "python",
   "nbconvert_exporter": "python",
   "pygments_lexer": "ipython3",
   "version": "3.11.9"
  }
 },
 "nbformat": 4,
 "nbformat_minor": 2
}
